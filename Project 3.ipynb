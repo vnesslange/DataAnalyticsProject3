{
 "cells": [
  {
   "cell_type": "code",
   "execution_count": 51,
   "metadata": {},
   "outputs": [],
   "source": [
    "import pandas as pd\n",
    "import matplotlib.pyplot as plt\n",
    "import seaborn as sns\n",
    "%matplotlib inline\n",
    "import numpy as np\n",
    "df = pd.read_excel('https://query.data.world/s/ci5mddusiml22vztgszqwv273wedtm')"
   ]
  },
  {
   "cell_type": "code",
   "execution_count": 52,
   "metadata": {},
   "outputs": [
    {
     "data": {
      "text/html": [
       "<div>\n",
       "<style scoped>\n",
       "    .dataframe tbody tr th:only-of-type {\n",
       "        vertical-align: middle;\n",
       "    }\n",
       "\n",
       "    .dataframe tbody tr th {\n",
       "        vertical-align: top;\n",
       "    }\n",
       "\n",
       "    .dataframe thead th {\n",
       "        text-align: right;\n",
       "    }\n",
       "</style>\n",
       "<table border=\"1\" class=\"dataframe\">\n",
       "  <thead>\n",
       "    <tr style=\"text-align: right;\">\n",
       "      <th></th>\n",
       "      <th>OPE ID</th>\n",
       "      <th>School</th>\n",
       "      <th>City</th>\n",
       "      <th>State</th>\n",
       "      <th>Zip Code</th>\n",
       "      <th>School Type</th>\n",
       "      <th>Loan Type</th>\n",
       "      <th>Recipients</th>\n",
       "      <th># of Loans Originated</th>\n",
       "      <th>$ of Loans Originated</th>\n",
       "      <th># of Disbursements</th>\n",
       "      <th>$ of Disbursements</th>\n",
       "    </tr>\n",
       "  </thead>\n",
       "  <tbody>\n",
       "    <tr>\n",
       "      <th>0</th>\n",
       "      <td>1051</td>\n",
       "      <td>UNIVERSITY OF ALABAMA</td>\n",
       "      <td>TUSCALOOSA</td>\n",
       "      <td>AL</td>\n",
       "      <td>35487.0</td>\n",
       "      <td>Public</td>\n",
       "      <td>Subsidized</td>\n",
       "      <td>7594</td>\n",
       "      <td>7622</td>\n",
       "      <td>33040862</td>\n",
       "      <td>7622</td>\n",
       "      <td>16774054</td>\n",
       "    </tr>\n",
       "    <tr>\n",
       "      <th>1</th>\n",
       "      <td>1052</td>\n",
       "      <td>UNIVERSITY OF ALABAMA AT BIRMINGHAM</td>\n",
       "      <td>BIRMINGHAM</td>\n",
       "      <td>AL</td>\n",
       "      <td>35294.0</td>\n",
       "      <td>Public</td>\n",
       "      <td>Subsidized</td>\n",
       "      <td>4272</td>\n",
       "      <td>4352</td>\n",
       "      <td>18590061</td>\n",
       "      <td>4352</td>\n",
       "      <td>9058344</td>\n",
       "    </tr>\n",
       "    <tr>\n",
       "      <th>2</th>\n",
       "      <td>1009</td>\n",
       "      <td>AUBURN UNIVERSITY</td>\n",
       "      <td>AUBURN</td>\n",
       "      <td>AL</td>\n",
       "      <td>36849.0</td>\n",
       "      <td>Public</td>\n",
       "      <td>Subsidized</td>\n",
       "      <td>4504</td>\n",
       "      <td>4504</td>\n",
       "      <td>19474542</td>\n",
       "      <td>4535</td>\n",
       "      <td>10142490</td>\n",
       "    </tr>\n",
       "    <tr>\n",
       "      <th>3</th>\n",
       "      <td>1057</td>\n",
       "      <td>UNIVERSITY OF SOUTH ALABAMA</td>\n",
       "      <td>MOBILE</td>\n",
       "      <td>AL</td>\n",
       "      <td>36688.0</td>\n",
       "      <td>Public</td>\n",
       "      <td>Subsidized</td>\n",
       "      <td>3438</td>\n",
       "      <td>3487</td>\n",
       "      <td>15061071</td>\n",
       "      <td>3487</td>\n",
       "      <td>7557853</td>\n",
       "    </tr>\n",
       "    <tr>\n",
       "      <th>4</th>\n",
       "      <td>1047</td>\n",
       "      <td>TROY UNIVERSITY</td>\n",
       "      <td>TROY</td>\n",
       "      <td>AL</td>\n",
       "      <td>36082.0</td>\n",
       "      <td>Public</td>\n",
       "      <td>Subsidized</td>\n",
       "      <td>4334</td>\n",
       "      <td>4355</td>\n",
       "      <td>18467508</td>\n",
       "      <td>4355</td>\n",
       "      <td>7395839</td>\n",
       "    </tr>\n",
       "  </tbody>\n",
       "</table>\n",
       "</div>"
      ],
      "text/plain": [
       "   OPE ID                               School        City State  Zip Code  \\\n",
       "0    1051                UNIVERSITY OF ALABAMA  TUSCALOOSA    AL   35487.0   \n",
       "1    1052  UNIVERSITY OF ALABAMA AT BIRMINGHAM  BIRMINGHAM    AL   35294.0   \n",
       "2    1009                    AUBURN UNIVERSITY      AUBURN    AL   36849.0   \n",
       "3    1057          UNIVERSITY OF SOUTH ALABAMA      MOBILE    AL   36688.0   \n",
       "4    1047                      TROY UNIVERSITY        TROY    AL   36082.0   \n",
       "\n",
       "  School Type   Loan Type  Recipients  # of Loans Originated  \\\n",
       "0      Public  Subsidized        7594                   7622   \n",
       "1      Public  Subsidized        4272                   4352   \n",
       "2      Public  Subsidized        4504                   4504   \n",
       "3      Public  Subsidized        3438                   3487   \n",
       "4      Public  Subsidized        4334                   4355   \n",
       "\n",
       "   $ of Loans Originated  # of Disbursements  $ of Disbursements  \n",
       "0               33040862                7622            16774054  \n",
       "1               18590061                4352             9058344  \n",
       "2               19474542                4535            10142490  \n",
       "3               15061071                3487             7557853  \n",
       "4               18467508                4355             7395839  "
      ]
     },
     "execution_count": 52,
     "metadata": {},
     "output_type": "execute_result"
    }
   ],
   "source": [
    "df.head()"
   ]
  },
  {
   "cell_type": "code",
   "execution_count": 53,
   "metadata": {},
   "outputs": [
    {
     "data": {
      "text/html": [
       "<div>\n",
       "<style scoped>\n",
       "    .dataframe tbody tr th:only-of-type {\n",
       "        vertical-align: middle;\n",
       "    }\n",
       "\n",
       "    .dataframe tbody tr th {\n",
       "        vertical-align: top;\n",
       "    }\n",
       "\n",
       "    .dataframe thead th {\n",
       "        text-align: right;\n",
       "    }\n",
       "</style>\n",
       "<table border=\"1\" class=\"dataframe\">\n",
       "  <thead>\n",
       "    <tr style=\"text-align: right;\">\n",
       "      <th></th>\n",
       "      <th>OPE ID</th>\n",
       "      <th>Zip Code</th>\n",
       "      <th>Recipients</th>\n",
       "      <th># of Loans Originated</th>\n",
       "      <th>$ of Loans Originated</th>\n",
       "      <th># of Disbursements</th>\n",
       "      <th>$ of Disbursements</th>\n",
       "    </tr>\n",
       "  </thead>\n",
       "  <tbody>\n",
       "    <tr>\n",
       "      <th>count</th>\n",
       "      <td>42740.000000</td>\n",
       "      <td>33650.000000</td>\n",
       "      <td>42740.000000</td>\n",
       "      <td>42740.000000</td>\n",
       "      <td>4.274000e+04</td>\n",
       "      <td>42740.000000</td>\n",
       "      <td>4.274000e+04</td>\n",
       "    </tr>\n",
       "    <tr>\n",
       "      <th>mean</th>\n",
       "      <td>16201.447824</td>\n",
       "      <td>50746.311738</td>\n",
       "      <td>3798.421385</td>\n",
       "      <td>3909.581844</td>\n",
       "      <td>3.379861e+07</td>\n",
       "      <td>3974.820660</td>\n",
       "      <td>1.694132e+07</td>\n",
       "    </tr>\n",
       "    <tr>\n",
       "      <th>std</th>\n",
       "      <td>15479.494190</td>\n",
       "      <td>29313.943341</td>\n",
       "      <td>16547.929427</td>\n",
       "      <td>17095.803201</td>\n",
       "      <td>1.666734e+08</td>\n",
       "      <td>17393.746307</td>\n",
       "      <td>8.551740e+07</td>\n",
       "    </tr>\n",
       "    <tr>\n",
       "      <th>min</th>\n",
       "      <td>1002.000000</td>\n",
       "      <td>0.000000</td>\n",
       "      <td>0.000000</td>\n",
       "      <td>0.000000</td>\n",
       "      <td>0.000000e+00</td>\n",
       "      <td>0.000000</td>\n",
       "      <td>0.000000e+00</td>\n",
       "    </tr>\n",
       "    <tr>\n",
       "      <th>25%</th>\n",
       "      <td>2848.000000</td>\n",
       "      <td>27410.000000</td>\n",
       "      <td>6.000000</td>\n",
       "      <td>7.000000</td>\n",
       "      <td>3.383300e+04</td>\n",
       "      <td>7.000000</td>\n",
       "      <td>1.700000e+04</td>\n",
       "    </tr>\n",
       "    <tr>\n",
       "      <th>50%</th>\n",
       "      <td>8447.500000</td>\n",
       "      <td>49003.000000</td>\n",
       "      <td>130.000000</td>\n",
       "      <td>132.000000</td>\n",
       "      <td>8.019415e+05</td>\n",
       "      <td>137.000000</td>\n",
       "      <td>3.912990e+05</td>\n",
       "    </tr>\n",
       "    <tr>\n",
       "      <th>75%</th>\n",
       "      <td>30837.000000</td>\n",
       "      <td>77003.000000</td>\n",
       "      <td>1287.000000</td>\n",
       "      <td>1318.250000</td>\n",
       "      <td>8.253579e+06</td>\n",
       "      <td>1350.000000</td>\n",
       "      <td>4.020021e+06</td>\n",
       "    </tr>\n",
       "    <tr>\n",
       "      <th>max</th>\n",
       "      <td>42933.000000</td>\n",
       "      <td>99801.000000</td>\n",
       "      <td>776959.000000</td>\n",
       "      <td>798927.000000</td>\n",
       "      <td>7.191430e+09</td>\n",
       "      <td>798927.000000</td>\n",
       "      <td>3.629214e+09</td>\n",
       "    </tr>\n",
       "  </tbody>\n",
       "</table>\n",
       "</div>"
      ],
      "text/plain": [
       "             OPE ID      Zip Code     Recipients  # of Loans Originated  \\\n",
       "count  42740.000000  33650.000000   42740.000000           42740.000000   \n",
       "mean   16201.447824  50746.311738    3798.421385            3909.581844   \n",
       "std    15479.494190  29313.943341   16547.929427           17095.803201   \n",
       "min     1002.000000      0.000000       0.000000               0.000000   \n",
       "25%     2848.000000  27410.000000       6.000000               7.000000   \n",
       "50%     8447.500000  49003.000000     130.000000             132.000000   \n",
       "75%    30837.000000  77003.000000    1287.000000            1318.250000   \n",
       "max    42933.000000  99801.000000  776959.000000          798927.000000   \n",
       "\n",
       "       $ of Loans Originated  # of Disbursements  $ of Disbursements  \n",
       "count           4.274000e+04        42740.000000        4.274000e+04  \n",
       "mean            3.379861e+07         3974.820660        1.694132e+07  \n",
       "std             1.666734e+08        17393.746307        8.551740e+07  \n",
       "min             0.000000e+00            0.000000        0.000000e+00  \n",
       "25%             3.383300e+04            7.000000        1.700000e+04  \n",
       "50%             8.019415e+05          137.000000        3.912990e+05  \n",
       "75%             8.253579e+06         1350.000000        4.020021e+06  \n",
       "max             7.191430e+09       798927.000000        3.629214e+09  "
      ]
     },
     "execution_count": 53,
     "metadata": {},
     "output_type": "execute_result"
    }
   ],
   "source": [
    "df.describe()"
   ]
  },
  {
   "cell_type": "code",
   "execution_count": 54,
   "metadata": {},
   "outputs": [],
   "source": [
    "df2 = df.groupby(['State'])"
   ]
  },
  {
   "cell_type": "code",
   "execution_count": 56,
   "metadata": {},
   "outputs": [],
   "source": [
    "df3 = df.groupby(['State'])['School']"
   ]
  },
  {
   "cell_type": "code",
   "execution_count": 57,
   "metadata": {},
   "outputs": [],
   "source": [
    "school_by_state = df3.count()"
   ]
  },
  {
   "cell_type": "markdown",
   "metadata": {},
   "source": [
    "The following graph shows the amount of schools in each state"
   ]
  },
  {
   "cell_type": "code",
   "execution_count": 58,
   "metadata": {},
   "outputs": [
    {
     "data": {
      "text/plain": [
       "<AxesSubplot:title={'center':'Amount of Schools located in each State'}, xlabel='State', ylabel='Amount'>"
      ]
     },
     "execution_count": 58,
     "metadata": {},
     "output_type": "execute_result"
    },
    {
     "data": {
      "image/png": "[encoded data removed]",
      "text/plain": [
       "<Figure size 432x288 with 1 Axes>"
      ]
     },
     "metadata": {
      "needs_background": "light"
     },
     "output_type": "display_data"
    }
   ],
   "source": [
    "school_by_state.plot(ylabel='Amount', fontsize=7, label='Inline label', kind='bar', title='Amount of Schools located in each State')\n"
   ]
  },
  {
   "cell_type": "code",
   "execution_count": 59,
   "metadata": {},
   "outputs": [
    {
     "data": {
      "text/plain": [
       "State\n",
       "AK      60\n",
       "AL     580\n",
       "AR     670\n",
       "AZ     650\n",
       "CA    4350\n",
       "CO     710\n",
       "CT     420\n",
       "DC     150\n",
       "DE     120\n",
       "FL    1910\n",
       "GA     970\n",
       "GU      10\n",
       "HI     200\n",
       "IA     700\n",
       "ID     280\n",
       "IL    1710\n",
       "IN     810\n",
       "KS     600\n",
       "KY     630\n",
       "LA     760\n",
       "MA    1000\n",
       "MD     560\n",
       "ME     310\n",
       "MI    1160\n",
       "MN     810\n",
       "MO    1180\n",
       "MS     320\n",
       "MT     200\n",
       "NC     900\n",
       "ND     180\n",
       "NE     340\n",
       "NH     240\n",
       "NJ     690\n",
       "NM     270\n",
       "NV     190\n",
       "NY    2490\n",
       "OH    1720\n",
       "OK     570\n",
       "OR     540\n",
       "PA    2270\n",
       "PR     400\n",
       "RI     140\n",
       "SC     720\n",
       "SD     200\n",
       "TN     880\n",
       "TX    2620\n",
       "UT     420\n",
       "VA     890\n",
       "VI      10\n",
       "VT     170\n",
       "WA     810\n",
       "WI     690\n",
       "WV     420\n",
       "WY     100\n",
       "Name: School, dtype: int64"
      ]
     },
     "execution_count": 59,
     "metadata": {},
     "output_type": "execute_result"
    }
   ],
   "source": [
    "school_by_state"
   ]
  },
  {
   "cell_type": "code",
   "execution_count": 60,
   "metadata": {},
   "outputs": [
    {
     "data": {
      "text/plain": [
       "4350"
      ]
     },
     "execution_count": 60,
     "metadata": {},
     "output_type": "execute_result"
    }
   ],
   "source": [
    "school_by_state.max()"
   ]
  },
  {
   "cell_type": "code",
   "execution_count": 134,
   "metadata": {},
   "outputs": [
    {
     "data": {
      "text/plain": [
       "10"
      ]
     },
     "execution_count": 134,
     "metadata": {},
     "output_type": "execute_result"
    }
   ],
   "source": [
    "school_by_state.min()"
   ]
  },
  {
   "cell_type": "code",
   "execution_count": 135,
   "metadata": {},
   "outputs": [
    {
     "data": {
      "text/plain": [
       "753.7037037037037"
      ]
     },
     "execution_count": 135,
     "metadata": {},
     "output_type": "execute_result"
    }
   ],
   "source": [
    "school_by_state.mean()"
   ]
  },
  {
   "cell_type": "code",
   "execution_count": 136,
   "metadata": {},
   "outputs": [
    {
     "data": {
      "text/plain": [
       "40700"
      ]
     },
     "execution_count": 136,
     "metadata": {},
     "output_type": "execute_result"
    }
   ],
   "source": [
    "school_by_state.sum()\n"
   ]
  },
  {
   "cell_type": "markdown",
   "metadata": {},
   "source": []
  },
  {
   "cell_type": "code",
   "execution_count": 137,
   "metadata": {},
   "outputs": [],
   "source": [
    "school_type = df.groupby(['School Type'])['# of Loans Originated']"
   ]
  },
  {
   "cell_type": "code",
   "execution_count": 138,
   "metadata": {
    "scrolled": true
   },
   "outputs": [],
   "source": [
    "st= school_type.count()"
   ]
  },
  {
   "cell_type": "code",
   "execution_count": 139,
   "metadata": {},
   "outputs": [
    {
     "data": {
      "text/plain": [
       "School Type\n",
       "Foreign-For-Profit       90\n",
       "Foreign-Private         530\n",
       "Foreign-Public         1420\n",
       "Private-Nonprofit     14100\n",
       "Proprietary           14020\n",
       "Public                12580\n",
       "Name: # of Loans Originated, dtype: int64"
      ]
     },
     "execution_count": 139,
     "metadata": {},
     "output_type": "execute_result"
    }
   ],
   "source": [
    "st"
   ]
  },
  {
   "cell_type": "code",
   "execution_count": 140,
   "metadata": {
    "scrolled": true
   },
   "outputs": [
    {
     "data": {
      "text/plain": [
       "<AxesSubplot:title={'center':'Amount of loan disbursments per School Type'}, xlabel='School Type'>"
      ]
     },
     "execution_count": 140,
     "metadata": {},
     "output_type": "execute_result"
    },
    {
     "data": {
      "image/png": "[encoded data removed]",
      "text/plain": [
       "<Figure size 432x288 with 1 Axes>"
      ]
     },
     "metadata": {
      "needs_background": "light"
     },
     "output_type": "display_data"
    }
   ],
   "source": [
    "st.plot(kind='bar', title='Amount of loan disbursments per School Type')"
   ]
  },
  {
   "cell_type": "markdown",
   "metadata": {},
   "source": [
    "The above graph show that loan disbursments are similar between School Types."
   ]
  },
  {
   "cell_type": "markdown",
   "metadata": {},
   "source": [
    "I am only interested in looking at a few of the columns, so I will make a new data frame with the information I want: 'School','School Type','# of Disbursements','$ of Disbursements'. "
   ]
  },
  {
   "cell_type": "code",
   "execution_count": 68,
   "metadata": {},
   "outputs": [],
   "source": [
    "amount_of_loans = df[['School','School Type','# of Disbursements','$ of Disbursements']]"
   ]
  },
  {
   "cell_type": "markdown",
   "metadata": {},
   "source": [
    "I am also only interested in the United State based schools so I will go through the data and filter for those types. I will also add up how many loans they disburse and for how much so i can compare the data by type.       "
   ]
  },
  {
   "cell_type": "code",
   "execution_count": 86,
   "metadata": {},
   "outputs": [],
   "source": [
    "private = 0\n",
    "nonprofit = 0\n",
    "public = 0\n",
    "\n",
    "private_dis = 0\n",
    "nonprofit_dis = 0\n",
    "public_dis = 0\n",
    "\n",
    "for i in range(len(amount_of_loans)):\n",
    "    if amount_of_loans.loc[i, \"School Type\"] == 'Public':\n",
    "        x = amount_of_loans.loc[i, '# of Disbursements']\n",
    "        public += x\n",
    "        y = amount_of_loans.loc[i, '$ of Disbursements']\n",
    "        public_dis += y\n",
    "    if amount_of_loans.loc[i, \"School Type\"] == 'Private-Nonprofit':\n",
    "        x = amount_of_loans.loc[i, '# of Disbursements']\n",
    "        nonprofit += x\n",
    "        y = amount_of_loans.loc[i, '$ of Disbursements']\n",
    "        nonprofit_dis += y \n",
    "    if amount_of_loans.loc[i, \"School Type\"] == 'Proprietary':\n",
    "        x = amount_of_loans.loc[i, '# of Disbursements']\n",
    "        private  += x\n",
    "        y = amount_of_loans.loc[i, '$ of Disbursements']\n",
    "        private_dis += y \n",
    "    "
   ]
  },
  {
   "cell_type": "code",
   "execution_count": 95,
   "metadata": {},
   "outputs": [],
   "source": [
    "public_mean = public_dis/public"
   ]
  },
  {
   "cell_type": "code",
   "execution_count": 96,
   "metadata": {},
   "outputs": [],
   "source": [
    "private_mean = private_dis/private"
   ]
  },
  {
   "cell_type": "code",
   "execution_count": 97,
   "metadata": {},
   "outputs": [],
   "source": [
    "nonprofit_mean = nonprofit_dis/nonprofit"
   ]
  },
  {
   "cell_type": "code",
   "execution_count": 182,
   "metadata": {},
   "outputs": [],
   "source": [
    "number_of_disbursements = [nonprofit, private, public]\n",
    "money_amount_of_disbursements = [nonprofit_dis, private_dis, public_dis]\n",
    "average_disbursements = [nonprofit_mean, private_mean, public_mean]\n",
    "index = ['Private-Nonprofit', 'Proprietary', 'Public' ]\n",
    "df7 = pd.DataFrame({'# of Disbursements':number_of_disbursements,\n",
    "                    '$ of Disbursements':money_amount_of_disbursements, \n",
    "                    'Average per Disbursement':average_disbursements}, index = index)"
   ]
  },
  {
   "cell_type": "code",
   "execution_count": 183,
   "metadata": {},
   "outputs": [
    {
     "data": {
      "image/png": "[encoded data removed]",
      "text/plain": [
       "<Figure size 432x288 with 1 Axes>"
      ]
     },
     "metadata": {
      "needs_background": "light"
     },
     "output_type": "display_data"
    },
    {
     "data": {
      "image/png": "[encoded data removed]",
      "text/plain": [
       "<Figure size 432x288 with 1 Axes>"
      ]
     },
     "metadata": {
      "needs_background": "light"
     },
     "output_type": "display_data"
    },
    {
     "data": {
      "image/png": "[encoded data removed]",
      "text/plain": [
       "<Figure size 432x288 with 1 Axes>"
      ]
     },
     "metadata": {
      "needs_background": "light"
     },
     "output_type": "display_data"
    }
   ],
   "source": [
    "ax = df7.plot.bar(rot=0, y  = '$ of Disbursements', title = '$ of Disbursements' )\n",
    "ax2 = df7.plot.bar(rot=0, y ='# of Disbursements', title = '# of Disbursements' )\n",
    "ax1 = df7.plot.bar(rot=0, y ='Average per Disbursement', title = 'Average per Disbursement' )"
   ]
  },
  {
   "cell_type": "markdown",
   "metadata": {},
   "source": [
    "The above graph show that even though public schools have a higher amount of loans per school, and disburse the most money, the public schools average is lower than Private-Nonprofits which has the highest average out of the three type of schools. \n",
    "\n",
    "Proprietary schools have the smallest number of loans and the least amount of money disbursed. They also have the lowest average of the three types of schools. \n",
    "\n",
    "From this data we can tell Private-Nonprofits students take out higher loans on average compared to the other school types. Proprietary schools take out the least on average.\n",
    "\n",
    "We do not have information on how much the school types cost on average or how much in scholarships and/or grants were given out. Private-Nonprofit schools being more costly might explain the higher average. "
   ]
  },
  {
   "cell_type": "code",
   "execution_count": null,
   "metadata": {},
   "outputs": [],
   "source": []
  }
 ],
 "metadata": {
  "kernelspec": {
   "display_name": "Python 3",
   "language": "python",
   "name": "python3"
  },
  "language_info": {
   "codemirror_mode": {
    "name": "ipython",
    "version": 3
   },
   "file_extension": ".py",
   "mimetype": "text/x-python",
   "name": "python",
   "nbconvert_exporter": "python",
   "pygments_lexer": "ipython3",
   "version": "3.8.5"
  }
 },
 "nbformat": 4,
 "nbformat_minor": 4
}
